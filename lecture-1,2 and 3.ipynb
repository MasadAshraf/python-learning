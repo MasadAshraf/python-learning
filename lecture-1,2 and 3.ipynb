{
 "cells": [
  {
   "cell_type": "code",
   "execution_count": 11,
   "metadata": {},
   "outputs": [
    {
     "name": "stdout",
     "output_type": "stream",
     "text": [
      "30\n"
     ]
    }
   ],
   "source": [
    "# INPUT .... \n",
    "# sTRING , NUMBER\n",
    "\n",
    "# my_nameaksdjashdjashdljsahdklajlajslkfdajlkfhalksdhlksahd = \"My Name is Masad\"\n",
    "# my_age = 25\n",
    "\n",
    "# SCHOLL \n",
    "\n",
    "# x = 12\n",
    "# y = \"12\"\n",
    "\n",
    "# print(my_nameaksdjashdjashdljsahdklajlajslkfdajlkfhalksdhlksahd)\n",
    "\n",
    "\n",
    "original_num = 23\n",
    "new_num = original_num + 7\n",
    "print(new_num)"
   ]
  },
  {
   "cell_type": "code",
   "execution_count": 1,
   "metadata": {},
   "outputs": [
    {
     "name": "stdout",
     "output_type": "stream",
     "text": [
      "Hello world\n"
     ]
    }
   ],
   "source": [
    "print(\"Hello world\")"
   ]
  },
  {
   "cell_type": "code",
   "execution_count": 30,
   "metadata": {},
   "outputs": [
    {
     "name": "stdout",
     "output_type": "stream",
     "text": [
      "Hello 24\n"
     ]
    }
   ],
   "source": [
    "# original_num = 23\n",
    "# new_num = original_num + 7\n",
    "# print(new_num)\n",
    "\n",
    "# num = .075\n",
    "# total = num + 200\n",
    "# print(total)\n",
    "\n",
    "#  KEYWORDS\n",
    "\n",
    "# return1 = \"Masad\"\n",
    "\n",
    "# for123 = 'lasda'\n",
    "\n",
    "\n",
    "# age = 5\n",
    "# age = age + 1\n",
    "# print(\"print first age\", age)\n",
    "\n",
    "# Wrong way\n",
    "#    \"unit_in_cm\" = 'cm'  \n",
    "# unitInCm  = ''\n",
    "# unit_in_cm = 'asdsa'\n",
    "\n",
    "# 2 = \"My name\"\n",
    "\n",
    "# age = 4\n",
    "# age = age + 1\n",
    "\n",
    "# age += 1\n",
    "\n",
    "# print(\"print second age\", age)\n",
    "\n",
    "#my_input  = int(input(\"please enter a number\")) \n",
    "#total_cost = 1 + my_input\n",
    "#print(total_cost)\n",
    "#print(my_input)\n",
    "\n",
    "greeting = \"Hello\"\n",
    "addressee = 24\n",
    "\n",
    "print(greeting ,addressee)\n",
    "\n"
   ]
  },
  {
   "cell_type": "code",
   "execution_count": 11,
   "metadata": {},
   "outputs": [
    {
     "name": "stdout",
     "output_type": "stream",
     "text": [
      "24\n",
      "25\n",
      "50\n"
     ]
    }
   ],
   "source": [
    "# stringVar = \"4 / 2\"\n",
    "\n",
    "# numberVar = 4 / 2 \n",
    "\n",
    "\n",
    "# print(stringVar)\n",
    "# print(numberVar)\n",
    "\n",
    "#myNum = 2 + 2\n",
    "\n",
    "######################## CAMEL CASE #########################\n",
    "firstValue = \"1000\"\n",
    "########################## SNAKE CASES #####################\n",
    "first_value = \"10000\"\n",
    "\n",
    "\n",
    "#my house back door\n",
    "# myHouseBackDoorWidth = 23\n",
    "\n",
    "\n",
    "# myHouseBackDoorWidth = 24\n",
    "\n",
    "\n",
    "# secondValue = 23\n",
    "\n",
    "# result = firstValue + secondValue\n",
    "\n",
    "# print (result)\n",
    "\n",
    "\n",
    "# age = 24\n",
    "\n",
    "# print(age)\n",
    "\n",
    "# age = age + 1\n",
    "\n",
    "# print(age)\n",
    "\n",
    "# age += 25\n",
    "\n",
    "# print(age)\n",
    "\n",
    "\n",
    "\n",
    "\n"
   ]
  },
  {
   "cell_type": "code",
   "execution_count": 13,
   "metadata": {},
   "outputs": [
    {
     "name": "stdout",
     "output_type": "stream",
     "text": [
      "13\n",
      "16\n"
     ]
    }
   ],
   "source": [
    "total_cost = 1 + 3 * 4\n",
    "\n",
    "print(total_cost)\n",
    "\n",
    "total_cost2 = (1 + 3) * 4\n",
    "\n",
    "print(total_cost2)"
   ]
  },
  {
   "cell_type": "code",
   "execution_count": 1,
   "metadata": {},
   "outputs": [
    {
     "name": "stdout",
     "output_type": "stream",
     "text": [
      "hello worl\n"
     ]
    }
   ],
   "source": [
    "print(\"hello worl\")"
   ]
  },
  {
   "cell_type": "code",
   "execution_count": 14,
   "metadata": {},
   "outputs": [
    {
     "name": "stdout",
     "output_type": "stream",
     "text": [
      "my name is waqar\n"
     ]
    }
   ],
   "source": [
    "# AGER bARISH HOI TOH MEI BAHR JEOGA \n",
    "\n",
    "#is_rain = True \n",
    "# BOOLEAN \n",
    "# STRING\n",
    "# NUMBER\n",
    "\n",
    "# PERFORMANCE \n",
    "#{}  ; \n",
    "# is_rain = False  \n",
    "\n",
    "\n",
    "# if is_rain:\n",
    "#     print(\"I 'll go outsute\")\n",
    "# else:\n",
    "#     print(\"will not go outsite\")\n",
    "\n",
    "\n",
    "# name = \"Masad\"\n",
    "\n",
    "# if name != \"Masad\":\n",
    "#     print(\"my name is not masad\")\n",
    "\n",
    "# name = \"Waqar\"\n",
    "\n",
    "# if name  == \"Masad\":\n",
    "#     print(\"my name is masad\")\n",
    "# elif name == \"Waqar\":\n",
    "#     print(\"my name is waqar\")\n",
    "# else:\n",
    "#     print(\"no name found\")\n",
    "    \n",
    "\n",
    " # Compare ==\n",
    " # No equal !==\n",
    " # >\n",
    " # <\n",
    "\n",
    "# age = 24\n",
    "\n",
    "# if age < 24:\n",
    "#    print(\"names\")   \n",
    "\n",
    "gang_name = \"Mafia\"\n",
    "gang_name_boy1 = \"XY\"\n",
    "gang_name_boy2 = \"YZ\"\n",
    "\n",
    "\n",
    "if gang_name == \"Mafia\":\n",
    "    if gang_name_boy1 == \"XY\":\n",
    "        print(\"\")\n",
    "        print(\"Boy Found\")\n",
    "\n"
   ]
  },
  {
   "cell_type": "code",
   "execution_count": 13,
   "metadata": {},
   "outputs": [
    {
     "name": "stdout",
     "output_type": "stream",
     "text": [
      "6\n",
      "2424.24\n"
     ]
    }
   ],
   "source": [
    "\n",
    "city_1 = 'Karachi'\n",
    "city_2 = 'Lahore'\n",
    "city_3 = 'Hydrabad'\n",
    "city_4 = 'Sukkhar'\n",
    "\n",
    "\n",
    "## LIST \n",
    "cities = ['karachi','Lahore', 'Hybdrabad', 'Sukkhar', True, 2424.24 ]\n",
    "\n",
    "print(len(cities))\n",
    "print(cities[5])"
   ]
  },
  {
   "cell_type": "code",
   "execution_count": 24,
   "metadata": {},
   "outputs": [
    {
     "name": "stdout",
     "output_type": "stream",
     "text": [
      "['karachi', 'Lahore', 'Hybdrabad', 'Sukkhar', True, 2424.24, 'Newyork']\n"
     ]
    }
   ],
   "source": [
    "## LIST \n",
    "city_4 = ['Sukkhar']\n",
    "\n",
    "cities = ['karachi','Lahore', 'Hybdrabad', 'Sukkhar', True, 2424.24 ]\n",
    "\n",
    "#display(cities[len(cities) - 3 ])\n",
    "\n",
    "\n",
    "my_input =  int(input(\"Plesae enter your city \")) \n",
    "\n",
    "\n",
    "\n",
    "cities.append(my_input)\n",
    "\n",
    "print(cities)\n",
    "\n",
    "\n",
    "\n",
    "#print(cities)\n",
    "\n",
    "#display()\n",
    "\n",
    "#display(cities[len(cities) - 1])\n",
    "\n",
    "\n",
    "\n"
   ]
  },
  {
   "cell_type": "code",
   "execution_count": 36,
   "metadata": {},
   "outputs": [
    {
     "data": {
      "text/plain": [
       "4"
      ]
     },
     "metadata": {},
     "output_type": "display_data"
    },
    {
     "data": {
      "text/plain": [
       "['java', 'python', 'c++', 'php', ['javascript', 'html', 'css']]"
      ]
     },
     "metadata": {},
     "output_type": "display_data"
    }
   ],
   "source": [
    "#list_1 =  [1232,432142,23432,'masad','home']\n",
    "list_2 = ['java','python','c++','php']\n",
    "        # 0      1         2      3        \n",
    " #list_2.append(\"javscript\")\n",
    "#display(list_2)\n",
    "                #\n",
    "                \n",
    "display(len(list_2))\n",
    "\n",
    "list_2.insert(len(list_2) ,['javascript','html','css'])\n",
    "\n",
    "display(list_2)"
   ]
  },
  {
   "cell_type": "code",
   "execution_count": 45,
   "metadata": {},
   "outputs": [
    {
     "name": "stdout",
     "output_type": "stream",
     "text": [
      "['Chicago', 'Denver', 'Los Angeles', 'Seattle']\n",
      "['Atlanta', 'Baltimore', 'Chicago', 'Denver', 'Los Angeles', 'Seattle']\n"
     ]
    }
   ],
   "source": [
    "cities = [\"Atlanta\", \"Baltimore\", \"Chicago\",\n",
    "\"Denver\", \"Los Angeles\", \"Seattle\"]\n",
    "# my_new_cities = cities[2:]\n",
    "\n",
    "# print(my_new_cities)\n",
    "# print(cities)\n"
   ]
  },
  {
   "cell_type": "code",
   "execution_count": 49,
   "metadata": {},
   "outputs": [
    {
     "data": {
      "text/plain": [
       "['Atlanta', 'Baltimore', 'Chicago', 'Denver', 'Seattle']"
      ]
     },
     "metadata": {},
     "output_type": "display_data"
    },
    {
     "data": {
      "text/plain": [
       "'Los Angeles'"
      ]
     },
     "metadata": {},
     "output_type": "display_data"
    }
   ],
   "source": [
    "cities = [\"Atlanta\", \"Baltimore\", \"Chicago\",\n",
    "\"Denver\", \"Los Angeles\", \"Seattle\"]\n",
    "\n",
    "\n",
    "#del cities[2]\n",
    "removed_cities = cities.pop(4)\n",
    "\n",
    "#cities.remove(\"Los Angeles\")\n",
    "\n",
    "display(cities)\n",
    "display(removed_cities)\n",
    "\n",
    "\n",
    "\n",
    "\n",
    "#please enter your task 1 \n",
    "#please enter your task 2 \n",
    "#please enter your task 3 \n",
    "#please enter your task 4\n",
    "\n",
    "#save these 4 task on a list \n",
    "# display task list\n",
    "\n",
    "# for pop please enter pop or for delete plese enter delete\n",
    "\n",
    "### pop  ### delete\n",
    "\n",
    "# please enter number of task\n",
    "\n",
    "# print final list\n",
    "\n",
    "\n",
    "\n",
    "\n"
   ]
  }
 ],
 "metadata": {
  "kernelspec": {
   "display_name": "Python 3",
   "language": "python",
   "name": "python3"
  },
  "language_info": {
   "codemirror_mode": {
    "name": "ipython",
    "version": 3
   },
   "file_extension": ".py",
   "mimetype": "text/x-python",
   "name": "python",
   "nbconvert_exporter": "python",
   "pygments_lexer": "ipython3",
   "version": "3.8.10"
  },
  "orig_nbformat": 4,
  "vscode": {
   "interpreter": {
    "hash": "916dbcbb3f70747c44a77c7bcd40155683ae19c65e1c03b4aa3499c5328201f1"
   }
  }
 },
 "nbformat": 4,
 "nbformat_minor": 2
}
