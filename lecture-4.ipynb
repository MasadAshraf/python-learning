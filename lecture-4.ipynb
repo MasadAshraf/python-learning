{
 "cells": [
  {
   "cell_type": "code",
   "execution_count": 4,
   "metadata": {},
   "outputs": [
    {
     "data": {
      "text/plain": [
       "['Masad', 'arsalan', 'zain', 'daniyal']"
      ]
     },
     "metadata": {},
     "output_type": "display_data"
    },
    {
     "data": {
      "text/plain": [
       "['Masad', 'arsalan']"
      ]
     },
     "metadata": {},
     "output_type": "display_data"
    }
   ],
   "source": [
    "# list Syntax\n",
    "\n",
    "my_students = ['Masad','arsalan','zain','daniyal']\n",
    "display(my_students)\n",
    "\n",
    "# remove wtih vale\n",
    "my_students.remove(\"zain\")\n",
    "\n",
    "# remove with index \n",
    "del my_students[2]\n",
    "\n",
    "\n",
    "display(my_students);\n"
   ]
  },
  {
   "cell_type": "code",
   "execution_count": null,
   "metadata": {},
   "outputs": [],
   "source": [
    "# tuples\n",
    "my_teachers = ('masad','ameen','khan','john')"
   ]
  },
  {
   "cell_type": "code",
   "execution_count": 26,
   "metadata": {},
   "outputs": [
    {
     "name": "stdout",
     "output_type": "stream",
     "text": [
      "teacher_1\n",
      "teacher_2\n",
      "teacher_3\n",
      "stud_1\n",
      "std_2\n",
      "std_3\n"
     ]
    }
   ],
   "source": [
    "# For loop\n",
    "\n",
    "my_students = ['Masad','arsalan','daniyal']\n",
    "\n",
    "# NOT GOOD OPTION\n",
    "# if my_students[0] == 'Zain': \n",
    "#     print('Zain is present')\n",
    "# else:\n",
    "#     print('Zain is not present')\n",
    "    \n",
    "school = [['teacher_1','teacher_2','teacher_3'],['stud_1','std_2','std_3']]\n",
    "    \n",
    "for s in school:\n",
    "    for s_nested in s:\n",
    "        print(s_nested)\n",
    "    \n",
    "    \n",
    " \n",
    "\n",
    "\n",
    "\n",
    "    \n",
    "    "
   ]
  },
  {
   "cell_type": "code",
   "execution_count": 29,
   "metadata": {},
   "outputs": [
    {
     "name": "stdout",
     "output_type": "stream",
     "text": [
      "masad\n"
     ]
    }
   ],
   "source": [
    "my_input = input(\"please enter your name\")\n",
    "\n",
    "print(my_input.lower())"
   ]
  },
  {
   "cell_type": "code",
   "execution_count": 41,
   "metadata": {},
   "outputs": [
    {
     "name": "stdout",
     "output_type": "stream",
     "text": [
      "{'name': 'masad', 'age': 30, 'class': 'python'}\n"
     ]
    }
   ],
   "source": [
    "# Dictionaries\n",
    "\n",
    "\n",
    "my_students = [{\"name\" : \"masad\", \"age\" : 30},\n",
    "               {\"name\" : \"araslan\", \"age\" : 30},\n",
    "               {\"name\" : \"zain\", \"age\" : 30}]\n",
    "\n",
    "std_1 = {\"name\" : \"masad\", \"age\" : 30}\n",
    "\n",
    "std_1[\"class\"]  = \"python\"\n",
    "\n",
    "print(std_1)\n",
    "\n",
    "#print(my_students[0])\n",
    "\n",
    "# tasks = [\n",
    "#     {\"task\" : \"here is the task title\", \"end_date\" : \"5th feb\"},\n",
    "#     {\"task\" : \"here is the task title\", \"end_date\" : \"5th feb\"},\n",
    "#     {\"task\" : \"here is the task title\", \"end_date\" : \"5th feb\"},\n",
    "#     {\"task\" : \"here is the task title\", \"end_date\" : \"5th feb\"},\n",
    "# ] \n",
    "\n",
    "\n"
   ]
  }
 ],
 "metadata": {
  "kernelspec": {
   "display_name": "Python 3",
   "language": "python",
   "name": "python3"
  },
  "language_info": {
   "codemirror_mode": {
    "name": "ipython",
    "version": 3
   },
   "file_extension": ".py",
   "mimetype": "text/x-python",
   "name": "python",
   "nbconvert_exporter": "python",
   "pygments_lexer": "ipython3",
   "version": "3.8.10"
  },
  "orig_nbformat": 4,
  "vscode": {
   "interpreter": {
    "hash": "916dbcbb3f70747c44a77c7bcd40155683ae19c65e1c03b4aa3499c5328201f1"
   }
  }
 },
 "nbformat": 4,
 "nbformat_minor": 2
}
